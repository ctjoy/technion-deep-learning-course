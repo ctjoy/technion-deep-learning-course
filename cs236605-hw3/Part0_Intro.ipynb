{
 "cells": [
  {
   "cell_type": "markdown",
   "metadata": {},
   "source": [
    "# CS236605: Deep Learning on Computational Accelerators\n",
    "# Homework Assignment 3\n",
    "\n",
    "Faculty of Computer Science, Technion."
   ]
  },
  {
   "cell_type": "markdown",
   "metadata": {},
   "source": [
    "Submitted by:\n",
    "\n",
    "| #       |              Name |             Id |             email |\n",
    "|---------|-------------------|----------------|------------------ |\n",
    "|Student 1|  Yun-Hsiang Chen | 921180238 | ctjoychen@gmail.com |\n",
    "|Student 2|  Shili Wang | 921180436 | sallyw0727@gmail.com |"
   ]
  },
  {
   "cell_type": "markdown",
   "metadata": {},
   "source": [
    "## Introduction\n",
    "\n",
    "In this assignment we'll learn to generate text with a deep multilayer RNN network based on GRU cells.\n",
    "Then we'll focus our attention on image generation and implement two different generative models:\n",
    "A variational autoencoder and a generative adversarial network."
   ]
  },
  {
   "cell_type": "markdown",
   "metadata": {},
   "source": [
    "## General Guidelines\n",
    "\n",
    "- Please read the [getting started page](https://vistalab-technion.github.io/cs236605/assignments/getting-started/) on the course website. It explains how to **setup, run and submit** the assignment.\n",
    "- This assignment requires running on GPU-enabled hardware. Please read the [course servers usage guide](https://vistalab-technion.github.io/cs236605/assignments/hpc-servers/). It explains how to use and run your code on the course servers to benefit from training with GPUs.\n",
    "- The text and code cells in these notebooks are intended to guide you through the\n",
    "  assignment and help you verify your solutions.\n",
    "  The notebooks **do not need to be edited** at all (unless you wish to play around).\n",
    "  The only exception is to fill your name(s) in the above cell before submission.\n",
    "  Please do not remove sections or change the order of any cells.\n",
    "- All your code (and even answers to questions) should be written in the files\n",
    "  within the python package corresponding the assignment number (`hw1`, `hw2`, etc).\n",
    "  You can of course use any editor or IDE to work on these files.\n"
   ]
  },
  {
   "cell_type": "markdown",
   "metadata": {},
   "source": [
    "## Contents\n",
    "- [Part1: Sequence Models](#part1)\n",
    "    - [Text generation with a char-level RNN](#part1_1)\n",
    "    - [Obtaining the corpus](#part1_2)\n",
    "    - [Data Preprocessing](#part1_3)\n",
    "    - [Dataset Creation](#part1_4)\n",
    "    - [Model Implementation](#part1_5)\n",
    "    - [Generating text by sampling](#part1_6)\n",
    "    - [Training](#part1_7)\n",
    "    - [Generating a work of art](#part1_8)\n",
    "    - [Questions](#part1_9)\n",
    "- [Part 2: Variational Autoencoder](#part2):\n",
    "    - [Obtaining the dataset](#part2_1)\n",
    "    - [The Variational Autoencoder](#part2_2)\n",
    "    - [Model Implementation](#part2_3)\n",
    "    - [Loss Implementation](#part2_4)\n",
    "    - [Sampling](#part2_5)\n",
    "    - [Training](#part2_6)\n",
    "    - [Questions](#part2_7)\n",
    "- [Part 3: Generative Adversarial Networks](#part3)\n",
    "    - [Obtaining the dataset](#part3_1)\n",
    "    - [Generative Adversarial Nets (GANs)](#part3_2)\n",
    "    - [Training GANs](#part3_3)\n",
    "    - [Model Implementation](#part3_4)\n",
    "    - [Loss Implementation](#part3_5)\n",
    "    - [Sampling](#part3_6)\n",
    "    - [Training](#part3_7)\n",
    "    - [Questions](#part3_8)"
   ]
  }
 ],
 "metadata": {
  "kernelspec": {
   "display_name": "Python 3",
   "language": "python",
   "name": "python3"
  },
  "language_info": {
   "codemirror_mode": {
    "name": "ipython",
    "version": 3
   },
   "file_extension": ".py",
   "mimetype": "text/x-python",
   "name": "python",
   "nbconvert_exporter": "python",
   "pygments_lexer": "ipython3",
   "version": "3.7.1"
  }
 },
 "nbformat": 4,
 "nbformat_minor": 2
}
