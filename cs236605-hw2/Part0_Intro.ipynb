{
 "cells": [
  {
   "cell_type": "markdown",
   "metadata": {},
   "source": [
    "# CS236605: Deep Learning on Computational Accelerators\n",
    "# Homework Assignment 2\n",
    "\n",
    "Faculty of Computer Science, Technion."
   ]
  },
  {
   "cell_type": "markdown",
   "metadata": {},
   "source": [
    "Submitted by:\n",
    "\n",
    "| #       |              Name |             Id |             email |\n",
    "|---------|-------------------|----------------|------------------ |\n",
    "|Student 1|  [your name here] | [your id here] | [your email here] |\n",
    "|Student 2|  [your name here] | [your id here] | [your email here] |"
   ]
  },
  {
   "cell_type": "markdown",
   "metadata": {},
   "source": [
    "## Introduction\n",
    "\n",
    "In this assignment we'll create a from-scratch implementation of two fundemental deep learning concepts: the backpropagation algorithm and stochastic gradient descent-based optimizers.\n",
    "Following that we will focus on convolutional networks.\n",
    "We'll use PyTorch to create our own network architectures and train them using GPUs on the course servers, and we'll conduct architecture experiments to determine the the effects of different architectural decisions on the performance of deep networks."
   ]
  },
  {
   "cell_type": "markdown",
   "metadata": {},
   "source": [
    "## General Guidelines\n",
    "\n",
    "- Please read the [getting started page](https://vistalab-technion.github.io/cs236605/assignments/getting-started/) on the course website. It explains how to **setup, run and submit** the assignment.\n",
    "- Please read the [course servers usage guide](https://vistalab-technion.github.io/cs236605/assignments/hpc-servers/). It explains how to use and run your code on the course servers to benefit from training with GPUs.\n",
    "- The text and code cells in these notebooks are intended to guide you through the\n",
    "  assignment and help you verify your solutions.\n",
    "  The notebooks **do not need to be edited** at all (unless you wish to play around).\n",
    "  The only exception is to fill your name(s) in the above cell before submission.\n",
    "  Please do not remove sections or change the order of any cells.\n",
    "- All your code (and even answers to questions) should be written in the files\n",
    "  within the python package corresponding the assignment number (`hw1`, `hw2`, etc).\n",
    "  You can of course use any editor or IDE to work on these files.\n"
   ]
  },
  {
   "cell_type": "markdown",
   "metadata": {},
   "source": [
    "## Contents\n",
    "- [Part1: Backpropagation](#part1)\n",
    "    - [Comparison with PyTorch](#part1_1)\n",
    "    - [Block Implementations](#part1_2)\n",
    "    - [Building Models](#part1_3)\n",
    "- [Part 2: Optimization and Training](#part2):\n",
    "    - [Implementing Optimization Algorithms](#part2_1)\n",
    "    - [Vanilla SGD with Regularization](#part2_2)\n",
    "    - [Training](#part2_3)\n",
    "    - [Momentum](#part2_4)\n",
    "    - [RMSProp](#part2_5)\n",
    "    - [Dropout Regularization](#part2_6)\n",
    "    - [Questions](#part2_7)\n",
    "- [Part 3: Convolutional Architectures](#part3)\n",
    "    - [Convolutional layers and networks](#part3_1)\n",
    "    - [Building convolutional networks with PyTorch](#part3_2)\n",
    "    - [Experimenting with model architectures](#part3_3)\n",
    "    - [Questions](#part3_4)"
   ]
  }
 ],
 "metadata": {
  "kernelspec": {
   "display_name": "Python 3",
   "language": "python",
   "name": "python3"
  },
  "language_info": {
   "codemirror_mode": {
    "name": "ipython",
    "version": 3
   },
   "file_extension": ".py",
   "mimetype": "text/x-python",
   "name": "python",
   "nbconvert_exporter": "python",
   "pygments_lexer": "ipython3",
   "version": "3.7.1"
  }
 },
 "nbformat": 4,
 "nbformat_minor": 2
}
